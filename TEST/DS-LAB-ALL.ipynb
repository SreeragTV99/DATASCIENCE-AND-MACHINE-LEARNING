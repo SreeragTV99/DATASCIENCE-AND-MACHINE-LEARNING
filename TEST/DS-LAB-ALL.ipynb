{
 "cells": [
  {
   "attachments": {},
   "cell_type": "markdown",
   "metadata": {},
   "source": [
    "**CO 1**    numpy, matplotlib"
   ]
  },
  {
   "attachments": {},
   "cell_type": "markdown",
   "metadata": {},
   "source": [
    "1. NumPy program to change dimension of an array and **convert the numpy\n",
    "array into a list**"
   ]
  },
  {
   "cell_type": "code",
   "execution_count": 3,
   "metadata": {},
   "outputs": [
    {
     "name": "stdout",
     "output_type": "stream",
     "text": [
      "Initial array\n",
      " [1 2 3 4 5 6 7 8 9]\n",
      "\n",
      "After dimension change\n",
      " [[1 2 3]\n",
      " [4 5 6]\n",
      " [7 8 9]]\n",
      "\n",
      "Array into list\n",
      " [[1, 2, 3], [4, 5, 6], [7, 8, 9]]\n"
     ]
    }
   ],
   "source": [
    "import numpy as np\n",
    "x=np.array([1, 2, 3, 4, 5, 6, 7, 8, 9])\n",
    "print(\"Initial array\\n\",x)\n",
    "x.shape=[3,3]            #Array Dimension can be change using attribute shape\n",
    "print(\"\\nAfter dimension change\\n\",x)\n",
    "y=x.tolist()             #Conver array to list use tolist()\n",
    "print(\"\\nArray into list\\n\",y)"
   ]
  },
  {
   "attachments": {},
   "cell_type": "markdown",
   "metadata": {},
   "source": [
    "2. NumPy program to **# create and update a null numpy array**"
   ]
  },
  {
   "cell_type": "code",
   "execution_count": 5,
   "metadata": {},
   "outputs": [
    {
     "name": "stdout",
     "output_type": "stream",
     "text": [
      "[0. 0. 0. 0. 0. 0. 0. 0. 0. 0.]\n",
      "Update sixth value to 11\n",
      "[ 0.  0.  0.  0.  0.  0. 11.  0.  0.  0.]\n"
     ]
    }
   ],
   "source": [
    "import numpy as np\n",
    "x = np.zeros(10)        #np.zeros() used to create null array\n",
    "print(x)\n",
    "print(\"Update sixth value to 11\")\n",
    "x[6] = 11\n",
    "print(x)"
   ]
  },
  {
   "attachments": {},
   "cell_type": "markdown",
   "metadata": {},
   "source": [
    "3. **Element-wise comparison**(greater, greater_equal,less and less_equal) of two given arrays."
   ]
  },
  {
   "cell_type": "code",
   "execution_count": 9,
   "metadata": {},
   "outputs": [
    {
     "name": "stdout",
     "output_type": "stream",
     "text": [
      "comparing array x with y\n",
      "\n",
      "Array x\n",
      " [[12 16]\n",
      " [ 5 10]]\n",
      "\n",
      "Array y\n",
      " [[ 8 23]\n",
      " [14  8]]\n",
      "\n",
      "Greater [[ True False]\n",
      " [False  True]]\n",
      "\n",
      "Greater_Equal [[ True False]\n",
      " [False  True]]\n",
      "\n",
      "Less [[False  True]\n",
      " [ True False]]\n",
      "\n",
      "Less_Equal [[False  True]\n",
      " [ True False]]\n"
     ]
    }
   ],
   "source": [
    "import numpy as np\n",
    "x = np.array([[12,16],[5,10]])     #2D array\n",
    "y = np.array([[8,23],[14,8]])      #2D array\n",
    "print(\"comparing array x with y\")\n",
    "print(\"\\nArray x\\n\",x)\n",
    "print(\"\\nArray y\\n\",y)\n",
    "print(\"\\nGreater\",np.greater(x, y))         #greater from x & y elements use np.greater(x,y)\n",
    "print(\"\\nGreater_Equal\",np.greater_equal(x, y))#greater than or equal from x & y elements use np.greater_equal(x, y)\n",
    "print(\"\\nLess\",np.less(x, y))  #less from x & y elements use np.less(x,y)\n",
    "print(\"\\nLess_Equal\",np.less_equal(x, y)) #less than or equal from x & y elements use np.less_equal(x, y)"
   ]
  },
  {
   "attachments": {},
   "cell_type": "markdown",
   "metadata": {},
   "source": [
    "4. **Array of all the even integers**"
   ]
  },
  {
   "cell_type": "code",
   "execution_count": 15,
   "metadata": {},
   "outputs": [
    {
     "name": "stdout",
     "output_type": "stream",
     "text": [
      "Array of all even integers from 30 to 70\n",
      "\n",
      "[30 32 34 36 38 40 42 44 46 48 50 52 54 56 58 60 62 64 66 68 70]\n"
     ]
    }
   ],
   "source": [
    "import numpy as np\n",
    "x=np.arange(30,71,2)    #30 to 70 with 2 added till 70 use 71\n",
    "print(\"Array of all even integers from 30 to 70\\n\")\n",
    "print(x)"
   ]
  },
  {
   "attachments": {},
   "cell_type": "markdown",
   "metadata": {},
   "source": [
    "5. **3x3 identity matrix**"
   ]
  },
  {
   "cell_type": "code",
   "execution_count": 22,
   "metadata": {},
   "outputs": [
    {
     "name": "stdout",
     "output_type": "stream",
     "text": [
      "3x3 Identity Matrix :\n",
      " [[1. 0. 0.]\n",
      " [0. 1. 0.]\n",
      " [0. 0. 1.]]\n"
     ]
    }
   ],
   "source": [
    "import numpy as np\n",
    "x=np.identity(3)   #3x3 zero matrix with diaginals as 1\n",
    "print(\"3x3 Identity Matrix :\\n\",x)"
   ]
  },
  {
   "attachments": {},
   "cell_type": "markdown",
   "metadata": {},
   "source": [
    "6. **Save a given array to a text file and load it** no normal file functions used."
   ]
  },
  {
   "cell_type": "code",
   "execution_count": 3,
   "metadata": {},
   "outputs": [
    {
     "name": "stdout",
     "output_type": "stream",
     "text": [
      "Original Array :\n",
      " [[0 1]\n",
      " [2 3]]\n",
      "After loading,Content of text file :\n",
      " [[0. 1.]\n",
      " [2. 3.]]\n"
     ]
    }
   ],
   "source": [
    "import numpy as np\n",
    "import os\n",
    "x=np.arange(4).reshape(2,2) #create array with elmts 0 to 3, reshape to 2x2\n",
    "print(\"Original Array :\\n\",x)\n",
    "heading='column1 column2'    #assign heading to text in text file\n",
    "np.savetxt('test.txt',x,fmt=\"%d\",header=heading)  #save array to text file\n",
    "print(\"After loading,Content of text file :\\n\",np.loadtxt('test.txt')) #load text from text-file"
   ]
  },
  {
   "attachments": {},
   "cell_type": "markdown",
   "metadata": {},
   "source": [
    "7. **Check whether two arrays are equal (element wise) or not**"
   ]
  },
  {
   "cell_type": "code",
   "execution_count": 4,
   "metadata": {},
   "outputs": [
    {
     "name": "stdout",
     "output_type": "stream",
     "text": [
      "Array X :\n",
      " [10 20]\n",
      "Array Y :\n",
      " [10 21]\n",
      "After comparison :\n",
      " [ True False]\n"
     ]
    }
   ],
   "source": [
    "import numpy as np\n",
    "x=np.array([10,20])\n",
    "y=np.array([10,21])\n",
    "print(\"Array X :\\n\",x)\n",
    "print(\"Array Y :\\n\",y)\n",
    "print(\"After comparison :\\n\",np.equal(x,y))"
   ]
  },
  {
   "attachments": {},
   "cell_type": "markdown",
   "metadata": {},
   "source": [
    "8. **create two matrices(read values from user) and find the dot\n",
    "product.**"
   ]
  },
  {
   "cell_type": "code",
   "execution_count": 1,
   "metadata": {},
   "outputs": [
    {
     "name": "stdout",
     "output_type": "stream",
     "text": [
      "Enter the elements of first matrix- 2 X 2 \n"
     ]
    }
   ],
   "source": [
    "import numpy as np\n",
    "print(\"Enter Elements of first 2x2 Matrix :\\n\")\n",
    "elements=list(map(int,input().split()))  #input elements split 1 2 3...\n",
    "a=np.array(elements).reshape(2,2)  #reshape array to 2x2 matrix\n",
    "print(\"First Matrix :\\n\",a)\n",
    "\n",
    "print(\"Enter Elements of Second 2x2 Matrix :\\n\")\n",
    "elements=list(map(int,input().split()))\n",
    "b=np.array(elements).reshape(2,2)\n",
    "print(\"Second Matrix :\\n\",b)\n",
    "\n",
    "print(\"Dot Product :\\n\",np.dot(a,b))\n",
    "\n",
    "# import numpy as np\n",
    "# print(\"Enter the elements of first matrix- 2 X 2 \");\n",
    "# elements = list(map(int, input().split()));\n",
    "# a= np.array(elements).reshape(2,2);\n",
    "# print(\"Enter the elements of second matrix- 2 X 2\");\n",
    "# elements = list(map(int, input().split()));\n",
    "# b= np.array(elements).reshape(2,2);\n",
    "# print(\"\\nFirst Matrix\\n\",a)\n",
    "# print(\"Second matrix\\n\",b)\n",
    "# print(\"\\nDot product of first and second matrix\");\n",
    "# np.dot(a, b)"
   ]
  },
  {
   "attachments": {},
   "cell_type": "markdown",
   "metadata": {},
   "source": [
    "9. **Transpose of matrix**"
   ]
  },
  {
   "cell_type": "code",
   "execution_count": 1,
   "metadata": {},
   "outputs": [
    {
     "name": "stdout",
     "output_type": "stream",
     "text": [
      "Initial Matrix :\n",
      " [[0 1]\n",
      " [2 3]\n",
      " [4 5]]\n",
      "Transpose :\n",
      " [[0 2 4]\n",
      " [1 3 5]]\n"
     ]
    }
   ],
   "source": [
    "import numpy as np\n",
    "a=np.arange(6).reshape(3,2)\n",
    "print(\"Initial Matrix :\\n\",a)\n",
    "b=np.transpose(a)\n",
    "print(\"Transpose :\\n\",b)"
   ]
  },
  {
   "attachments": {},
   "cell_type": "markdown",
   "metadata": {},
   "source": [
    "10. **Trace of matrix** ie, Sum of diagonals"
   ]
  },
  {
   "cell_type": "code",
   "execution_count": 2,
   "metadata": {},
   "outputs": [
    {
     "name": "stdout",
     "output_type": "stream",
     "text": [
      "Matrix A :\n",
      " [[0 1 2]\n",
      " [3 4 5]\n",
      " [6 7 8]]\n",
      "Trace :\n",
      " 12\n"
     ]
    }
   ],
   "source": [
    "import numpy as np\n",
    "a=np.arange(9).reshape(3,3)\n",
    "print(\"Matrix A :\\n\",a)\n",
    "b=np.trace(a)\n",
    "print(\"Trace :\\n\",b)"
   ]
  },
  {
   "attachments": {},
   "cell_type": "markdown",
   "metadata": {},
   "source": [
    "11.  **Rank of matrix**   np.linalg.matrix_rank"
   ]
  },
  {
   "cell_type": "code",
   "execution_count": 3,
   "metadata": {},
   "outputs": [
    {
     "name": "stdout",
     "output_type": "stream",
     "text": [
      "Matrix A :\n",
      " [[0 1 2]\n",
      " [3 4 5]\n",
      " [6 7 8]]\n",
      "Rank Of Matrix :\n",
      " 2\n"
     ]
    }
   ],
   "source": [
    "import numpy as np\n",
    "a=np.arange(9).reshape(3,3)\n",
    "print(\"Matrix A :\\n\",a)\n",
    "b=np.linalg.matrix_rank(a)\n",
    "print(\"Rank Of Matrix :\\n\",b)"
   ]
  },
  {
   "attachments": {},
   "cell_type": "markdown",
   "metadata": {},
   "source": [
    "12. **Determinant of matrix**"
   ]
  },
  {
   "cell_type": "code",
   "execution_count": 5,
   "metadata": {},
   "outputs": [
    {
     "name": "stdout",
     "output_type": "stream",
     "text": [
      "Matrix :\n",
      " [[20 10]\n",
      " [15 25]]\n",
      "Determinant :\n",
      " 350.00000000000017\n"
     ]
    }
   ],
   "source": [
    "import numpy as np\n",
    "a=np.array([[20,10],[15,25]])\n",
    "print(\"Matrix :\\n\",a)\n",
    "print(\"Determinant :\\n\",np.linalg.det(a))"
   ]
  },
  {
   "attachments": {},
   "cell_type": "markdown",
   "metadata": {},
   "source": [
    "13.  **Inverse of matrix.**"
   ]
  },
  {
   "cell_type": "code",
   "execution_count": 12,
   "metadata": {},
   "outputs": [
    {
     "name": "stdout",
     "output_type": "stream",
     "text": [
      "Matrix :\n",
      " [[4 3]\n",
      " [3 2]]\n",
      "Inverse Of Matrix :\n",
      " [[-2.  3.]\n",
      " [ 3. -4.]]\n"
     ]
    }
   ],
   "source": [
    "import numpy as np\n",
    "x=np.array([[4,3],[3,2]])\n",
    "print(\"Matrix :\\n\",x)\n",
    "print(\"Inverse Of Matrix :\\n\",np.linalg.inv(x))\n"
   ]
  },
  {
   "attachments": {},
   "cell_type": "markdown",
   "metadata": {},
   "source": [
    "14. **Eigen values and eigen vectors**"
   ]
  },
  {
   "cell_type": "code",
   "execution_count": 13,
   "metadata": {},
   "outputs": [
    {
     "name": "stdout",
     "output_type": "stream",
     "text": [
      "Matrix A :\n",
      " [[0 2]\n",
      " [2 3]]\n",
      "Eigen value :\n",
      " [-1.  4.]\n",
      "Eigen vector :\n",
      " [[-0.89442719 -0.4472136 ]\n",
      " [ 0.4472136  -0.89442719]]\n"
     ]
    }
   ],
   "source": [
    "import numpy as np\n",
    "from numpy.linalg import eig\n",
    "\n",
    "a=np.array([[0,2],[2,3]])\n",
    "print(\"Matrix A :\\n\",a)\n",
    "value,vector=eig(a)\n",
    "print(\"Eigen value :\\n\",value)\n",
    "print(\"Eigen vector :\\n\",vector)"
   ]
  },
  {
   "attachments": {},
   "cell_type": "markdown",
   "metadata": {},
   "source": [
    "15. **Draw a line in a diagram from position (1, 3) to (2, 10) then to (6, 12) and finally to\n",
    "position (18, 20). (Mark each point with a beautiful green colour and set line colour to red\n",
    "and line style dotted)**"
   ]
  },
  {
   "cell_type": "code",
   "execution_count": 2,
   "metadata": {},
   "outputs": [
    {
     "data": {
      "image/png": "[encoded data removed]",
      "text/plain": [
       "<Figure size 640x480 with 1 Axes>"
      ]
     },
     "metadata": {},
     "output_type": "display_data"
    }
   ],
   "source": [
    "import matplotlib.pyplot as plt\n",
    "import numpy as np\n",
    "xpoints=np.array([1,2,6,18])\n",
    "ypoints=np.array([3,10,12,20])\n",
    "plt.plot(xpoints,ypoints,marker='o',color='r',linestyle=':',mfc='r',mec='g',ms='15')\n",
    "plt.show()"
   ]
  },
  {
   "attachments": {},
   "cell_type": "markdown",
   "metadata": {},
   "source": [
    "16. Draw a **plot for the following data**:\n",
    "Temperature indegree Celsius   Sales\n",
    "12                              100\n",
    "14                              200\n",
    "16                              250\n",
    "18                              400\n",
    "20                              300\n",
    "22                              450\n",
    "24                              500"
   ]
  },
  {
   "cell_type": "code",
   "execution_count": 5,
   "metadata": {},
   "outputs": [
    {
     "data": {
      "image/png": "[encoded data removed]",
      "text/plain": [
       "<Figure size 640x480 with 1 Axes>"
      ]
     },
     "metadata": {},
     "output_type": "display_data"
    }
   ],
   "source": [
    "import matplotlib.pyplot as plt\n",
    "import numpy as np\n",
    "xpoints=[12,14,16,18,20,22,24]              #list or array np.array([])\n",
    "ypoints=[100,200,250,400,300,450,500]\n",
    "plt.plot(xpoints,ypoints)\n",
    "plt.xlabel(\"Temperature\")\n",
    "plt.ylabel(\"Sales\")\n",
    "plt.show()\n"
   ]
  },
  {
   "attachments": {},
   "cell_type": "markdown",
   "metadata": {},
   "source": [
    "17.** Line Diagram using Text File**"
   ]
  },
  {
   "cell_type": "code",
   "execution_count": 14,
   "metadata": {},
   "outputs": [
    {
     "data": {
      "image/png": "[encoded data removed]",
      "text/plain": [
       "<Figure size 640x480 with 1 Axes>"
      ]
     },
     "metadata": {},
     "output_type": "display_data"
    }
   ],
   "source": [
    "import matplotlib.pyplot as plt\n",
    "with open(\"plot.txt\") as f:\n",
    "    data=f.read()\n",
    "data=data.split(\"\\n\")  #split each line\n",
    "x=[row.split(\" \")[0] for row in data] # assign 1st data in each row to x\n",
    "y=[row.split(\" \")[1] for row in data] # assign 2nd data in each row to y\n",
    "plt.plot(x,y)\n",
    "plt.title(\"SAMPLE GRAPH\")\n",
    "plt.xlabel(\"x-axis\")\n",
    "plt.ylabel(\"y-axis\")\n",
    "plt.show()"
   ]
  },
  {
   "attachments": {},
   "cell_type": "markdown",
   "metadata": {},
   "source": [
    "18. **Multiple lines on same plot**"
   ]
  },
  {
   "cell_type": "code",
   "execution_count": 63,
   "metadata": {},
   "outputs": [
    {
     "data": {
      "text/plain": [
       "<matplotlib.legend.Legend at 0x2b220c44710>"
      ]
     },
     "execution_count": 63,
     "metadata": {},
     "output_type": "execute_result"
    },
    {
     "data": {
      "image/png": "[encoded data removed]",
      "text/plain": [
       "<Figure size 640x480 with 1 Axes>"
      ]
     },
     "metadata": {},
     "output_type": "display_data"
    }
   ],
   "source": [
    "import matplotlib.pyplot as plt\n",
    "x1=[2,4,6]\n",
    "y1=[4,6,8]\n",
    "plt.plot(x1,y1,label=\"Line 1\")\n",
    "x2=[4,6,8]\n",
    "y2=[2,4,6]\n",
    "plt.plot(x2,y2,label=\"Line 2\")\n",
    "plt.title(\"GRAPH WITH 2 LINES\")\n",
    "plt.xlabel(\"x-axis\")\n",
    "plt.ylabel(\"y-label\")\n",
    "plt.legend()\n",
    "# plt.show()"
   ]
  },
  {
   "attachments": {},
   "cell_type": "markdown",
   "metadata": {},
   "source": [
    "19. **Multiple plots in same plot**  ie,subplot"
   ]
  },
  {
   "cell_type": "code",
   "execution_count": 50,
   "metadata": {},
   "outputs": [
    {
     "data": {
      "text/plain": [
       "[<matplotlib.lines.Line2D at 0x2b21cfc5fd0>]"
      ]
     },
     "execution_count": 50,
     "metadata": {},
     "output_type": "execute_result"
    },
    {
     "data": {
      "image/png": "[encoded data removed]",
      "text/plain": [
       "<Figure size 640x480 with 3 Axes>"
      ]
     },
     "metadata": {},
     "output_type": "display_data"
    }
   ],
   "source": [
    "import matplotlib.pyplot as plt\n",
    "plt.subplot(2,2,1)\n",
    "plt.plot(x1,y1)\n",
    "# plt.xticks(())\n",
    "# plt.yticks(())\n",
    "plt.subplot(2,2,2)\n",
    "plt.plot(x2,y2)\n",
    "plt.subplot(2,2,3)\n",
    "plt.plot(x1)\n"
   ]
  },
  {
   "attachments": {},
   "cell_type": "markdown",
   "metadata": {},
   "source": [
    "20. **Draw a scatter plot comparing two subject marks of\n",
    "Mathematics and Science.** Use marks of 10 students.\n",
    "\n",
    " Sample data:\n",
    "\n",
    "math_marks = [88, 92, 80, 89, 100, 80, 60, 100, 80, 34]\n",
    "science_marks = [35, 79, 79, 48, 100, 88, 32, 45, 20, 30]\n",
    "marks_range = [10, 20, 30, 40, 50, 60, 70, 80, 90,100]"
   ]
  },
  {
   "cell_type": "code",
   "execution_count": 59,
   "metadata": {},
   "outputs": [
    {
     "data": {
      "text/plain": [
       "<matplotlib.legend.Legend at 0x2b21f069b50>"
      ]
     },
     "execution_count": 59,
     "metadata": {},
     "output_type": "execute_result"
    },
    {
     "data": {
      "image/png": "[encoded data removed]",
      "text/plain": [
       "<Figure size 640x480 with 1 Axes>"
      ]
     },
     "metadata": {},
     "output_type": "display_data"
    }
   ],
   "source": [
    "import matplotlib.pyplot as plt\n",
    "math_marks = [88, 92, 80, 89, 100, 80, 60, 100, 80, 34]\n",
    "science_marks = [35, 79, 79, 48, 100, 88, 32, 45, 20, 30]\n",
    "marks_range = [10, 20, 30, 40, 50, 60, 70, 80, 90, 100]\n",
    "plt.scatter(marks_range,math_marks,label=\"Maths marks\",color=\"r\")\n",
    "plt.scatter(marks_range,science_marks,label=\"Science marks\",color=\"g\")\n",
    "plt.title(\"Scatter Plot\")\n",
    "plt.xlabel(\"Mark Range\")\n",
    "plt.ylabel(\"Marks scored\")\n",
    "plt.legend()\n",
    "# plt.show()"
   ]
  },
  {
   "attachments": {},
   "cell_type": "markdown",
   "metadata": {},
   "source": [
    "**CO 2**    pandas"
   ]
  },
  {
   "attachments": {},
   "cell_type": "markdown",
   "metadata": {},
   "source": [
    "21. **List-to-Series Conversion**"
   ]
  },
  {
   "cell_type": "code",
   "execution_count": 68,
   "metadata": {},
   "outputs": [
    {
     "name": "stdout",
     "output_type": "stream",
     "text": [
      "Original List : [11, 22, 33, 44]\n",
      "After conversion :\n",
      " 0    11\n",
      "1    22\n",
      "2    33\n",
      "3    44\n",
      "dtype: int64\n"
     ]
    }
   ],
   "source": [
    "import pandas as pd\n",
    "list=[11,22,33,44]\n",
    "print(\"Original List :\",list)\n",
    "print(\"After conversion :\\n\",pd.Series(list))"
   ]
  },
  {
   "attachments": {},
   "cell_type": "markdown",
   "metadata": {},
   "source": [
    "22. **Generate the series of dates from 1st May, 2021 to 12th May, 2021**"
   ]
  },
  {
   "cell_type": "code",
   "execution_count": 70,
   "metadata": {},
   "outputs": [
    {
     "name": "stdout",
     "output_type": "stream",
     "text": [
      "DatetimeIndex(['2021-05-01', '2021-05-02', '2021-05-03', '2021-05-04',\n",
      "               '2021-05-05', '2021-05-06', '2021-05-07', '2021-05-08',\n",
      "               '2021-05-09', '2021-05-10', '2021-05-11', '2021-05-12'],\n",
      "              dtype='datetime64[ns]', freq='D')\n"
     ]
    }
   ],
   "source": [
    "import pandas as pd\n",
    "res=pd.date_range(start=\"05-01-2021\",end=\"05-12-2021\")   #m-d-y\n",
    "print(res)"
   ]
  },
  {
   "attachments": {},
   "cell_type": "markdown",
   "metadata": {},
   "source": [
    "23. **Convert a dictionary into corresponding dataframe and display it**"
   ]
  },
  {
   "cell_type": "code",
   "execution_count": 71,
   "metadata": {},
   "outputs": [
    {
     "name": "stdout",
     "output_type": "stream",
     "text": [
      "DataFrame :\n",
      "    SLNO  NAME\n",
      "0     1  JOHN\n",
      "1     2   SAM\n",
      "2     3   RAM\n",
      "3     4   JOY\n"
     ]
    }
   ],
   "source": [
    "import pandas as pd\n",
    "data={'SLNO':[1,2,3,4],'NAME':[\"JOHN\",\"SAM\",\"RAM\",\"JOY\"]}\n",
    "print(\"DataFrame :\\n\",pd.DataFrame(data))"
   ]
  },
  {
   "attachments": {},
   "cell_type": "markdown",
   "metadata": {},
   "source": [
    "24. **convert a 2D List into corresponding dataframe and display it**"
   ]
  },
  {
   "cell_type": "code",
   "execution_count": 72,
   "metadata": {},
   "outputs": [
    {
     "name": "stdout",
     "output_type": "stream",
     "text": [
      "DataFrame :\n",
      "       0     1    2\n",
      "0  java  2000  200\n",
      "1   Cpp  3000  300\n",
      "2     C  4000  400\n"
     ]
    }
   ],
   "source": [
    "import pandas as pd\n",
    "data=[[\"java\",2000,200],[\"Cpp\",3000,300],[\"C\",4000,400]]\n",
    "print(\"DataFrame :\\n\",pd.DataFrame(data))"
   ]
  },
  {
   "attachments": {},
   "cell_type": "markdown",
   "metadata": {},
   "source": [
    "25. **convert a CSV file into corresponding dataframe and display it**"
   ]
  },
  {
   "cell_type": "code",
   "execution_count": 74,
   "metadata": {},
   "outputs": [
    {
     "name": "stdout",
     "output_type": "stream",
     "text": [
      "DataFrame :\n",
      "              0\n",
      "0   c cpp java\n",
      "1  100 200 300\n"
     ]
    }
   ],
   "source": [
    "import pandas as pd\n",
    "data=pd.read_csv(\"Sample.csv\",header=None)\n",
    "print(\"DataFrame :\\n\",pd.DataFrame(data))"
   ]
  },
  {
   "attachments": {},
   "cell_type": "markdown",
   "metadata": {},
   "source": [
    "26. **From Dataframe display first 2 rows**"
   ]
  },
  {
   "cell_type": "code",
   "execution_count": 75,
   "metadata": {},
   "outputs": [
    {
     "name": "stdout",
     "output_type": "stream",
     "text": [
      "First 2 rows of DataFrame :\n",
      "       0     1    2\n",
      "0  java  2000  200\n",
      "1   Cpp  3000  300\n"
     ]
    }
   ],
   "source": [
    "import pandas as pd\n",
    "data=[[\"java\",2000,200],[\"Cpp\",3000,300],[\"C\",4000,400]]\n",
    "df=pd.DataFrame(data)\n",
    "print(\"First 2 rows of DataFrame :\\n\",df.head(2))"
   ]
  },
  {
   "attachments": {},
   "cell_type": "markdown",
   "metadata": {},
   "source": [
    "27.  **Dataframe showing name, occupation, salary of people. Find the average salary per occupation**"
   ]
  },
  {
   "cell_type": "code",
   "execution_count": 90,
   "metadata": {},
   "outputs": [
    {
     "name": "stdout",
     "output_type": "stream",
     "text": [
      "Data :\n",
      "       name occupation  salary\n",
      "0    sneha   engineer   70000\n",
      "1  pradeep   mechanic   40000\n",
      "2    Alvin   engineer   65000\n",
      "3    Rahul   mechanic   38000\n",
      "4   Ramesh   mechanic   35000\n",
      "Average salary per Occupation :\n",
      " occupation\n",
      "engineer    67500.000000\n",
      "mechanic    37666.666667\n",
      "Name: salary, dtype: float64\n"
     ]
    }
   ],
   "source": [
    "import pandas as pd\n",
    "data=pd.read_csv(\"people.csv\")\n",
    "print(\"Data :\\n\",data)\n",
    "print(\"Average salary per Occupation :\\n\",data.groupby('occupation')['salary'].mean())"
   ]
  },
  {
   "attachments": {},
   "cell_type": "markdown",
   "metadata": {},
   "source": [
    "28. **Given are 2 dataframes, with one dataframe containing Employee ID (eid), Employee Name\n",
    "(ename) and Stipend (stipend) and the other dataframe containing Employee ID (eid) and\n",
    "designation of the employee (designation). Output the Dataframe containing Employee ID\n",
    "(eid), Employee Name (ename), Stipend (stipend) and Destination (position).**"
   ]
  },
  {
   "cell_type": "code",
   "execution_count": 3,
   "metadata": {},
   "outputs": [
    {
     "name": "stdout",
     "output_type": "stream",
     "text": [
      "Data frame 1\n",
      "    eid     ename  stipend\n",
      "0  101  ajay dev    10000\n",
      "1  102      binu    15000\n",
      "2  104    rajeev     8000\n",
      "3  107   sandhya     7000\n",
      "\n",
      "Data frame 2\n",
      "    eid designation\n",
      "0  101  programmer\n",
      "1  102     analyst\n",
      "2  104   developer\n",
      "3  107  programmer\n",
      "\n",
      "Combined\n",
      "    eid     ename  stipend designation\n",
      "0  101  ajay dev    10000  programmer\n",
      "1  102      binu    15000     analyst\n",
      "2  104    rajeev     8000   developer\n",
      "3  107   sandhya     7000  programmer\n"
     ]
    }
   ],
   "source": [
    "import pandas as pd\n",
    "df1=pd.read_csv('employee1.csv')\n",
    "print(\"Data frame 1\\n\",df1)\n",
    "df2=pd.read_csv('employee2.csv')\n",
    "print(\"\\nData frame 2\\n\",df2)\n",
    "print(\"\\nCombined\\n\",pd.merge(df1,df2, how = 'inner', on = 'eid'))"
   ]
  },
  {
   "attachments": {},
   "cell_type": "markdown",
   "metadata": {},
   "source": [
    "**CO-3** sklearn"
   ]
  },
  {
   "attachments": {},
   "cell_type": "markdown",
   "metadata": {},
   "source": [
    "29. **k-NN classification using any standard dataset available in the\n",
    "public domain and find the accuracy of the algorithm**"
   ]
  },
  {
   "cell_type": "code",
   "execution_count": 2,
   "metadata": {},
   "outputs": [
    {
     "name": "stdout",
     "output_type": "stream",
     "text": [
      "Accuracy\n",
      "0.9666666666666667\n"
     ]
    }
   ],
   "source": [
    "from sklearn.neighbors import KNeighborsClassifier\n",
    "from sklearn.model_selection import train_test_split\n",
    "from sklearn.datasets import load_iris\n",
    "irisData=load_iris() # Load the iris dataset\n",
    "x=irisData.data\n",
    "y=irisData.target\n",
    "X_train, X_test, y_train, y_test = train_test_split(x, y, test_size = 0.2, random_state=42)# Split the data into a training set and a test set\n",
    "knn = KNeighborsClassifier(n_neighbors=7) #model creation, Create a k-NN classifier with 7 neighbors\n",
    "knn.fit(X_train, y_train) # Fit the classifier to the training data\n",
    "print(\"Accuracy\")\n",
    "print(knn.score(X_test, y_test)) # Compute the accuracy of the classifier on the test data"
   ]
  },
  {
   "attachments": {},
   "cell_type": "markdown",
   "metadata": {},
   "source": [
    "30. **Program to implement Naïve Bayes Algorithm using any standard dataset available in the public domain and find the accuracy of the algorithm.**"
   ]
  },
  {
   "cell_type": "code",
   "execution_count": 5,
   "metadata": {},
   "outputs": [
    {
     "name": "stdout",
     "output_type": "stream",
     "text": [
      "Accuracy:  1.0\n"
     ]
    }
   ],
   "source": [
    "# from sklearn.datasets import load_iris\n",
    "# from sklearn.model_selection import train_test_split\n",
    "# from sklearn.naive_bayes import GaussianNB\n",
    "# X,y=load_iris(return_X_y=True)\n",
    "# X_train,X_test,y_train,y_test=train_test_split(X,y,test_size=0.30,random_state=0)\n",
    "# gnb=GaussianNB()\n",
    "# y_pred=gnb.fit(X_train,y_train).predict(X_test)\n",
    "# print(y_pred)\n",
    "# x_new=[[5,5,4,4]]\n",
    "# y_new=gnb.fit(X_train,y_train).predict(x_new)\n",
    "# from sklearn.metrics import confusion_matrix\n",
    "# cm = confusion_matrix(y_test, y_pred)\n",
    "# print (\"CM\", cm)\n",
    "# print(\"\\n\")\n",
    "# print(\"predicted output for [[5,5,4,4]]:\",y_new)\n",
    "# print(\"Naive bayes score :\",gnb.score(X_test,y_test))\n",
    "\n",
    "\n",
    "from sklearn import datasets\n",
    "from sklearn.model_selection import train_test_split\n",
    "from sklearn.naive_bayes import GaussianNB\n",
    "\n",
    "# Load the iris dataset\n",
    "iris = datasets.load_iris()\n",
    "X = iris.data\n",
    "y = iris.target\n",
    "\n",
    "# Split the data into a training set and a test set\n",
    "X_train, X_test, y_train, y_test = train_test_split(X, y, test_size=0.2, random_state=42)\n",
    "\n",
    "# Create a Naive Bayes classifier\n",
    "nb = GaussianNB()\n",
    "\n",
    "# Fit the classifier to the training data\n",
    "nb.fit(X_train, y_train)\n",
    "\n",
    "# Compute the accuracy of the classifier on the test data\n",
    "accuracy = nb.score(X_test, y_test)\n",
    "print(\"Accuracy: \",accuracy)\n"
   ]
  },
  {
   "attachments": {},
   "cell_type": "markdown",
   "metadata": {},
   "source": [
    "31. **Program to implement decision trees using any standard dataset available in the public domain and find the accuracy of the algorithm**"
   ]
  },
  {
   "cell_type": "code",
   "execution_count": 7,
   "metadata": {},
   "outputs": [
    {
     "name": "stdout",
     "output_type": "stream",
     "text": [
      "Accuracy:  1.0\n"
     ]
    }
   ],
   "source": [
    "from sklearn import datasets\n",
    "from sklearn.model_selection import train_test_split\n",
    "from sklearn.tree import DecisionTreeClassifier\n",
    "\n",
    "# Load the iris dataset\n",
    "iris = datasets.load_iris()\n",
    "X = iris.data\n",
    "y = iris.target\n",
    "\n",
    "# Split the data into a training set and a test set\n",
    "X_train, X_test, y_train, y_test = train_test_split(X, y, test_size=0.2, random_state=42)\n",
    "\n",
    "# Create a decision tree classifier\n",
    "dt = DecisionTreeClassifier()\n",
    "\n",
    "# Fit the classifier to the training data\n",
    "dt.fit(X_train, y_train)\n",
    "\n",
    "# Compute the accuracy of the classifier on the test data\n",
    "accuracy = dt.score(X_test, y_test)\n",
    "print(\"Accuracy: \",accuracy)\n"
   ]
  },
  {
   "attachments": {},
   "cell_type": "markdown",
   "metadata": {},
   "source": [
    "32. **Program to implement linear and multiple regression techniques using any standard dataset available in the public domain and evaluate its performance**"
   ]
  },
  {
   "cell_type": "code",
   "execution_count": 1,
   "metadata": {},
   "outputs": [
    {
     "name": "stdout",
     "output_type": "stream",
     "text": [
      "Mean squared error :  2900.19362849348\n",
      "Coefficient of determination 0.4526027629719197\n"
     ]
    }
   ],
   "source": [
    "# import matplotlib.pyplot as plt\n",
    "# import numpy as np\n",
    "# from sklearn import datasets, linear_model\n",
    "# from sklearn.metrics import mean_squared_error, r2_score\n",
    "# df = datasets.load_diabetes()\n",
    "# diabetes_X, diabetes_y = datasets.load_diabetes(return_X_y=True)\n",
    "# diabetes_X = diabetes_X[:, np.newaxis, 2]\n",
    "# diabetes_X_train = diabetes_X[:-20]\n",
    "# diabetes_X_test = diabetes_X[-20:]\n",
    "# diabetes_y_train = diabetes_y[:-20]\n",
    "# diabetes_y_test = diabetes_y[-20:]\n",
    "# regr = linear_model.LinearRegression()\n",
    "# regr.fit(diabetes_X_train, diabetes_y_train)\n",
    "# diabetes_y_pred = regr.predict(diabetes_X_test)\n",
    "# print(\"Coefficients: \\n\", regr.coef_)\n",
    "# print(\"Mean squared error: %.2f\" % mean_squared_error(diabetes_y_test, diabetes_y_pred))\n",
    "# print(\"Coefficient of determination: %.2f\" % r2_score(diabetes_y_test, diabetes_y_pred))\n",
    "\n",
    "\n",
    "from sklearn import datasets\n",
    "from sklearn.model_selection import train_test_split\n",
    "from sklearn.linear_model import LinearRegression\n",
    "from sklearn.metrics import mean_squared_error, r2_score\n",
    "\n",
    "# Load the diabetes dataset\n",
    "diabetes = datasets.load_diabetes()\n",
    "X = diabetes.data\n",
    "y = diabetes.target\n",
    "\n",
    "# Split the data into a training set and a test set\n",
    "X_train, X_test, y_train, y_test = train_test_split(X, y, test_size=0.2, random_state=42)\n",
    "\n",
    "# Create a linear regression model\n",
    "lr = LinearRegression()\n",
    "\n",
    "# Fit the model to the training data\n",
    "lr.fit(X_train, y_train)\n",
    "\n",
    "# Evaluate the model on the test data\n",
    "mse = mean_squared_error(y_test, lr.predict(X_test))\n",
    "r2 = r2_score(y_test, lr.predict(X_test))\n",
    "print(\"Mean squared error : \",mse)\n",
    "print(\"Coefficient of determination\",r2)\n"
   ]
  },
  {
   "attachments": {},
   "cell_type": "markdown",
   "metadata": {},
   "source": [
    "33. **Program to implement text classification using a Support vector machine**"
   ]
  },
  {
   "cell_type": "code",
   "execution_count": 6,
   "metadata": {},
   "outputs": [
    {
     "name": "stdout",
     "output_type": "stream",
     "text": [
      "Accuracy :  1.0\n",
      "['setosa']\n"
     ]
    }
   ],
   "source": [
    "from sklearn.datasets import load_iris\n",
    "from sklearn.model_selection import train_test_split\n",
    "from sklearn import metrics\n",
    "from sklearn.svm import SVC\n",
    "iris = load_iris()# Load the dataset and split it into training and test sets\n",
    "x = iris.data\n",
    "y = iris.target\n",
    "x_train,x_test,y_train,y_test = train_test_split(x,y,test_size=0.2,random_state=1)\n",
    "classifier = SVC(kernel='linear', random_state=0)# Create a SVM model\n",
    "classifier.fit(x_train, y_train) # Fit the model to the training data\n",
    "y_pred= classifier.predict(x_test)# Make predictions on the test set\n",
    "print(\"Accuracy : \",metrics.accuracy_score(y_test,y_pred))# Compute the accuracy of the classifier on the test data\n",
    "sample = [[1,1,1,2]] #list of predicted labels\n",
    "pred = classifier.predict(sample)#predict method will return a list of predicted labels for the sample.\n",
    "pred_v = [iris.target_names[p] for p in pred]#list comprehension to map these integer labels to their corresponding class names, using the target_names attribute of the iris dataset. The resulting list of class names is stored in the pred_v variable.\n",
    "print(pred_v)#prints the list of class names, classifier was trained and tested correctly, this list should contain a single class name "
   ]
  },
  {
   "attachments": {},
   "cell_type": "markdown",
   "metadata": {},
   "source": [
    "34.  **Program to implement k-means clustering technique using any standard dataset available in the public domain**"
   ]
  },
  {
   "cell_type": "code",
   "execution_count": 7,
   "metadata": {},
   "outputs": [
    {
     "name": "stderr",
     "output_type": "stream",
     "text": [
      "C:\\Users\\Sreerag\\AppData\\Roaming\\Python\\Python311\\site-packages\\sklearn\\cluster\\_kmeans.py:1366: FutureWarning: algorithm='auto' is deprecated, it will be removed in 1.3. Using 'lloyd' instead.\n",
      "  warnings.warn(\n"
     ]
    },
    {
     "name": "stdout",
     "output_type": "stream",
     "text": [
      "[[5.77358491 2.69245283]\n",
      " [5.006      3.428     ]\n",
      " [6.81276596 3.07446809]]\n",
      "[1 1 1 1 1 1 1 1 1 1 1 1 1 1 1 1 1 1 1 1 1 1 1 1 1 1 1 1 1 1 1 1 1 1 1 1 1\n",
      " 1 1 1 1 1 1 1 1 1 1 1 1 1 2 2 2 0 2 0 2 0 2 0 0 0 0 0 0 2 0 0 0 0 0 0 0 0\n",
      " 2 2 2 2 0 0 0 0 0 0 0 0 2 0 0 0 0 0 0 0 0 0 0 0 0 0 2 0 2 2 2 2 0 2 2 2 2\n",
      " 2 2 0 0 2 2 2 2 0 2 0 2 0 2 2 0 0 2 2 2 2 2 0 0 2 2 2 0 2 2 2 0 2 2 2 0 2\n",
      " 2 0]\n",
      "[0 0 0 0 0 0 0 0 0 0 0 0 0 0 0 0 0 0 0 0 0 0 0 0 0 0 0 0 0 0 0 0 0 0 0 0 0\n",
      " 0 0 0 0 0 0 0 0 0 0 0 0 0 1 1 1 1 1 1 1 1 1 1 1 1 1 1 1 1 1 1 1 1 1 1 1 1\n",
      " 1 1 1 1 1 1 1 1 1 1 1 1 1 1 1 1 1 1 1 1 1 1 1 1 1 1 2 2 2 2 2 2 2 2 2 2 2\n",
      " 2 2 2 2 2 2 2 2 2 2 2 2 2 2 2 2 2 2 2 2 2 2 2 2 2 2 2 2 2 2 2 2 2 2 2 2 2\n",
      " 2 2]\n"
     ]
    }
   ],
   "source": [
    "from sklearn import datasets\n",
    "import matplotlib.pyplot as plt\n",
    "import pandas as pd\n",
    "from sklearn.cluster import KMeans\n",
    "iris = datasets.load_iris()\n",
    "X = iris.data[:, :2]\n",
    "y = iris.target\n",
    "km = KMeans(n_clusters = 3, init='k-means++', n_init=10, max_iter=300, tol=0.0001, verbose=0, random_state=21, copy_x=True, algorithm=\"auto\")\n",
    "km.fit(X)\n",
    "centers = km.cluster_centers_\n",
    "print(centers)\n",
    "new_labels = km.labels_\n",
    "print(new_labels)\n",
    "print(y)"
   ]
  },
  {
   "cell_type": "code",
   "execution_count": 10,
   "metadata": {},
   "outputs": [
    {
     "name": "stdout",
     "output_type": "stream",
     "text": [
      "[1 1 1 1 1 1 1 1 1 1 1 1 1 1 1 1 1 1 1 1 1 1 1 1 1 1 1 1 1 1 1 1 1 1 1 1 1\n",
      " 1 1 1 1 1 1 1 1 1 1 1 1 1 0 0 2 0 0 0 0 0 0 0 0 0 0 0 0 0 0 0 0 0 0 0 0 0\n",
      " 0 0 0 2 0 0 0 0 0 0 0 0 0 0 0 0 0 0 0 0 0 0 0 0 0 0 2 0 2 2 2 2 0 2 2 2 2\n",
      " 2 2 0 0 2 2 2 2 0 2 0 2 0 2 2 0 0 2 2 2 2 2 0 2 2 2 2 0 2 2 2 0 2 2 2 0 2\n",
      " 2 0]\n",
      "[0 0 0 0 0 0 0 0 0 0 0 0 0 0 0 0 0 0 0 0 0 0 0 0 0 0 0 0 0 0 0 0 0 0 0 0 0\n",
      " 0 0 0 0 0 0 0 0 0 0 0 0 0 1 1 1 1 1 1 1 1 1 1 1 1 1 1 1 1 1 1 1 1 1 1 1 1\n",
      " 1 1 1 1 1 1 1 1 1 1 1 1 1 1 1 1 1 1 1 1 1 1 1 1 1 1 2 2 2 2 2 2 2 2 2 2 2\n",
      " 2 2 2 2 2 2 2 2 2 2 2 2 2 2 2 2 2 2 2 2 2 2 2 2 2 2 2 2 2 2 2 2 2 2 2 2 2\n",
      " 2 2]\n"
     ]
    },
    {
     "name": "stderr",
     "output_type": "stream",
     "text": [
      "C:\\Users\\Sreerag\\AppData\\Roaming\\Python\\Python311\\site-packages\\sklearn\\cluster\\_kmeans.py:870: FutureWarning: The default value of `n_init` will change from 10 to 'auto' in 1.4. Set the value of `n_init` explicitly to suppress the warning\n",
      "  warnings.warn(\n"
     ]
    }
   ],
   "source": [
    "from sklearn import datasets\n",
    "from sklearn.cluster import KMeans\n",
    "\n",
    "# Load the iris dataset\n",
    "iris = datasets.load_iris()\n",
    "X = iris.data\n",
    "y = iris.target\n",
    "\n",
    "# Create a KMeans model with 3 clusters\n",
    "kmeans = KMeans(n_clusters=3)\n",
    "\n",
    "# Fit the model to the data\n",
    "kmeans.fit(X)\n",
    "\n",
    "# Get the cluster labels\n",
    "labels = kmeans.predict(X)\n",
    "\n",
    "# Print the cluster labels\n",
    "print(labels)\n",
    "\n",
    "#print target cluster labels \n",
    "print(y)"
   ]
  }
 ],
 "metadata": {
  "kernelspec": {
   "display_name": "Python 3",
   "language": "python",
   "name": "python3"
  },
  "language_info": {
   "codemirror_mode": {
    "name": "ipython",
    "version": 3
   },
   "file_extension": ".py",
   "mimetype": "text/x-python",
   "name": "python",
   "nbconvert_exporter": "python",
   "pygments_lexer": "ipython3",
   "version": "3.11.0"
  },
  "orig_nbformat": 4,
  "vscode": {
   "interpreter": {
    "hash": "5238573367df39f7286bb46f9ff5f08f63a01a80960060ce41e3c79b190280fa"
   }
  }
 },
 "nbformat": 4,
 "nbformat_minor": 2
}
